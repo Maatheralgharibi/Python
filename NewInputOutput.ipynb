{
 "cells": [
  {
   "cell_type": "markdown",
   "metadata": {},
   "source": [
    "### Write a programme that reads 2 numbers and prints the sum of the two numbers"
   ]
  },
  {
   "cell_type": "code",
   "execution_count": 4,
   "metadata": {},
   "outputs": [
    {
     "name": "stdout",
     "output_type": "stream",
     "text": [
      "The result is:  57\n"
     ]
    }
   ],
   "source": [
    "x = input(\"Enter the frist number: \")\n",
    "x = int (x)\n",
    "y = input(\"Enter the second number: \")\n",
    "y = int (y)\n",
    "r = x+y\n",
    "print (\"The result is: \", r)"
   ]
  },
  {
   "cell_type": "markdown",
   "metadata": {},
   "source": [
    "### Write a programme that reads three numbers and prints the result of multiplying the numbers"
   ]
  },
  {
   "cell_type": "code",
   "execution_count": 5,
   "metadata": {},
   "outputs": [
    {
     "name": "stdout",
     "output_type": "stream",
     "text": [
      "The result is:  196560.0\n"
     ]
    }
   ],
   "source": [
    "x = input(\"Enter the frist number: \")\n",
    "x = float (x)\n",
    "y = input(\"Enter the second number: \")\n",
    "y = float (y)\n",
    "z = input(\"Enter the third number: \")\n",
    "z = float (z)\n",
    "r = x*y*z\n",
    "print (\"The result is: \", r)"
   ]
  },
  {
   "cell_type": "markdown",
   "metadata": {},
   "source": [
    "### Write a programme that reads your name and prints a message of welcome like Welcome Ali, if you entered Ali as the name"
   ]
  },
  {
   "cell_type": "code",
   "execution_count": 11,
   "metadata": {},
   "outputs": [
    {
     "name": "stdout",
     "output_type": "stream",
     "text": [
      "Welcome Maather\n"
     ]
    }
   ],
   "source": [
    "name = input(\"Enter your name:\")\n",
    "print (\"Welcome\",name)"
   ]
  },
  {
   "cell_type": "markdown",
   "metadata": {},
   "source": [
    "### Write the code that reads a number and prints the float value of the entered number"
   ]
  },
  {
   "cell_type": "code",
   "execution_count": 7,
   "metadata": {},
   "outputs": [
    {
     "name": "stdout",
     "output_type": "stream",
     "text": [
      "9.0\n"
     ]
    }
   ],
   "source": [
    "x = input(\"Enter a number: \")\n",
    "x = float(x)\n",
    "print (x)"
   ]
  },
  {
   "cell_type": "code",
   "execution_count": 8,
   "metadata": {},
   "outputs": [
    {
     "name": "stdout",
     "output_type": "stream",
     "text": [
      "80.0\n"
     ]
    }
   ],
   "source": [
    "print( float (input(\"Enter a number: \")))"
   ]
  },
  {
   "cell_type": "markdown",
   "metadata": {},
   "source": [
    "### Write the code that reads a string and prints the string 10 times"
   ]
  },
  {
   "cell_type": "code",
   "execution_count": 12,
   "metadata": {},
   "outputs": [
    {
     "name": "stdout",
     "output_type": "stream",
     "text": [
      "PythonPythonPythonPythonPythonPythonPythonPythonPythonPython\n"
     ]
    }
   ],
   "source": [
    "st = input(\"Enter a string: \")\n",
    "print (st * 10)"
   ]
  },
  {
   "attachments": {
    "image.png": {
     "image/png": "[encoded data removed]"
    }
   },
   "cell_type": "markdown",
   "metadata": {},
   "source": [
    "### Using single print instruction write the code that prints the following message ![image.png](attachment:image.png)"
   ]
  },
  {
   "cell_type": "code",
   "execution_count": 10,
   "metadata": {},
   "outputs": [
    {
     "name": "stdout",
     "output_type": "stream",
     "text": [
      "Hi\t My \n",
      "\tName is \"XYZ\"\n"
     ]
    }
   ],
   "source": [
    "print(\"Hi\\t My \\n\\tName is \\\"XYZ\\\"\")"
   ]
  }
 ],
 "metadata": {
  "kernelspec": {
   "display_name": "Python 3",
   "language": "python",
   "name": "python3"
  },
  "language_info": {
   "codemirror_mode": {
    "name": "ipython",
    "version": 3
   },
   "file_extension": ".py",
   "mimetype": "text/x-python",
   "name": "python",
   "nbconvert_exporter": "python",
   "pygments_lexer": "ipython3",
   "version": "3.10.8"
  }
 },
 "nbformat": 4,
 "nbformat_minor": 2
}
