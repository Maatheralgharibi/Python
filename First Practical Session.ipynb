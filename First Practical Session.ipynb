{
 "cells": [
  {
   "cell_type": "markdown",
   "metadata": {},
   "source": [
    "# Python Basics"
   ]
  },
  {
   "cell_type": "markdown",
   "metadata": {},
   "source": [
    "This is the first application"
   ]
  },
  {
   "cell_type": "code",
   "execution_count": 1,
   "metadata": {},
   "outputs": [
    {
     "name": "stdout",
     "output_type": "stream",
     "text": [
      "hi \n",
      " there\n"
     ]
    }
   ],
   "source": [
    "# This is my frist application in Python\n",
    "print (\"hi \\n there\")"
   ]
  },
  {
   "cell_type": "markdown",
   "metadata": {},
   "source": [
    "# Variables"
   ]
  },
  {
   "cell_type": "code",
   "execution_count": 2,
   "metadata": {},
   "outputs": [],
   "source": [
    "x = 5\n",
    "y = 1.23\n",
    "z = 'Hi'"
   ]
  },
  {
   "cell_type": "markdown",
   "metadata": {},
   "source": [
    "# Data types"
   ]
  },
  {
   "cell_type": "markdown",
   "metadata": {},
   "source": [
    "# Print instruction"
   ]
  },
  {
   "cell_type": "code",
   "execution_count": 3,
   "metadata": {},
   "outputs": [
    {
     "name": "stdout",
     "output_type": "stream",
     "text": [
      "The value of x is: 7\n",
      "The square of x is: 49\n"
     ]
    }
   ],
   "source": [
    "x = 7\n",
    "print ('The value of x is:', x)\n",
    "sq = x*x\n",
    "print ('The square of x is:', sq)"
   ]
  },
  {
   "cell_type": "markdown",
   "metadata": {},
   "source": [
    "# float"
   ]
  },
  {
   "cell_type": "code",
   "execution_count": 4,
   "metadata": {},
   "outputs": [
    {
     "name": "stdout",
     "output_type": "stream",
     "text": [
      "f1 =  1.234\n",
      "f2 =  2300.0\n"
     ]
    }
   ],
   "source": [
    "f1 = 1.234\n",
    "\n",
    "f2 = 2.3e3\n",
    "\n",
    "print('f1 = ', f1)\n",
    "print('f2 = ', f2)"
   ]
  },
  {
   "cell_type": "markdown",
   "metadata": {},
   "source": [
    "# input instruction"
   ]
  },
  {
   "cell_type": "markdown",
   "metadata": {},
   "source": [
    "### write a programme that reads a variable and prints the value of the square of the variable"
   ]
  },
  {
   "cell_type": "code",
   "execution_count": 5,
   "metadata": {},
   "outputs": [
    {
     "name": "stdout",
     "output_type": "stream",
     "text": [
      "the square is:  9\n"
     ]
    }
   ],
   "source": [
    "a = input('Enter a number: ') # input the variable as a string\n",
    "\n",
    "a = int(a)     # convert the variable into an integer\n",
    "\n",
    "sq = a*a       # find the square\n",
    "\n",
    "print('the square is: ',sq)      # print the result"
   ]
  },
  {
   "cell_type": "markdown",
   "metadata": {},
   "source": [
    "# Example 1"
   ]
  },
  {
   "cell_type": "markdown",
   "metadata": {},
   "source": [
    "### write a programme that reads two numbers and finds the sum of these numbers"
   ]
  },
  {
   "cell_type": "code",
   "execution_count": 6,
   "metadata": {},
   "outputs": [
    {
     "name": "stdout",
     "output_type": "stream",
     "text": [
      "the sum is:  8\n"
     ]
    }
   ],
   "source": [
    "# this code was written by Zainab\n",
    "\n",
    "x = input (\"Enter x number:\")\n",
    "x = int (x)\n",
    "y = input (\"Enter y number:\")\n",
    "y = int (y)\n",
    "\n",
    "sum = x+y\n",
    "\n",
    "print (\"the sum is: \", sum)"
   ]
  },
  {
   "cell_type": "markdown",
   "metadata": {},
   "source": [
    "# Float Numbers"
   ]
  },
  {
   "cell_type": "code",
   "execution_count": 7,
   "metadata": {},
   "outputs": [
    {
     "name": "stdout",
     "output_type": "stream",
     "text": [
      "the sum is:  12.0\n"
     ]
    }
   ],
   "source": [
    "x = input (\"Enter x number:\")\n",
    "x = float (x)\n",
    "y = input (\"Enter y number:\")\n",
    "y = float (y)\n",
    "\n",
    "sum = x+y\n",
    "\n",
    "print (\"the sum is: \", sum)"
   ]
  },
  {
   "cell_type": "markdown",
   "metadata": {},
   "source": [
    "# Strings"
   ]
  },
  {
   "cell_type": "code",
   "execution_count": 13,
   "metadata": {},
   "outputs": [
    {
     "name": "stdout",
     "output_type": "stream",
     "text": [
      "Hi, nice to meet you Maather\n"
     ]
    }
   ],
   "source": [
    "s = input ('What is your name:')\n",
    "print ('Hi, nice to meet you', s)"
   ]
  },
  {
   "cell_type": "code",
   "execution_count": 14,
   "metadata": {},
   "outputs": [
    {
     "name": "stdout",
     "output_type": "stream",
     "text": [
      "Hi, I will repeat your name 5 times MaatherMaatherMaatherMaatherMaatherMaatherMaatherMaatherMaatherMaatherMaatherMaatherMaatherMaatherMaather\n"
     ]
    }
   ],
   "source": [
    "s = input ('What is your name:')\n",
    "print ('Hi, I will repeat your name 5 times', s*15)"
   ]
  },
  {
   "cell_type": "markdown",
   "metadata": {},
   "source": [
    "# printing different types of variables"
   ]
  },
  {
   "cell_type": "code",
   "execution_count": 10,
   "metadata": {},
   "outputs": [
    {
     "name": "stdout",
     "output_type": "stream",
     "text": [
      "5 Maather 1.32\n"
     ]
    }
   ],
   "source": [
    "x = 5\n",
    "y = 1.32\n",
    "n = \"Maather\"\n",
    "\n",
    "print(x, n, y)"
   ]
  },
  {
   "cell_type": "markdown",
   "metadata": {},
   "source": [
    "# Operator"
   ]
  },
  {
   "cell_type": "markdown",
   "metadata": {},
   "source": [
    "Arithmetic Operations"
   ]
  },
  {
   "cell_type": "code",
   "execution_count": 15,
   "metadata": {},
   "outputs": [
    {
     "name": "stdout",
     "output_type": "stream",
     "text": [
      "The addition is: 11\n",
      "The multiplication is: 24\n",
      "The division is: 2.6666666666666665\n",
      "The subtraction is: 5\n",
      "The power is: 512\n",
      "The mode is: 2\n",
      "floor is: 2\n"
     ]
    }
   ],
   "source": [
    "x = 8\n",
    "y = 3\n",
    "\n",
    "print('The addition is:', x+y)\n",
    "print('The multiplication is:', x*y)\n",
    "print('The division is:', x/y)\n",
    "print('The subtraction is:', x-y)\n",
    "print('The power is:', x**y)\n",
    "print('The mode is:', x%y)\n",
    "print('floor is:', x//y)"
   ]
  },
  {
   "cell_type": "markdown",
   "metadata": {},
   "source": [
    "# Bitwise logical operators"
   ]
  },
  {
   "cell_type": "code",
   "execution_count": 12,
   "metadata": {},
   "outputs": [
    {
     "name": "stdout",
     "output_type": "stream",
     "text": [
      "The AND is: 1\n",
      "The OR is: 7\n",
      "shift: 2\n",
      "shift: 10\n"
     ]
    }
   ],
   "source": [
    "x = 5\n",
    "y = 3\n",
    "\n",
    "print('The AND is:', x&y)\n",
    "print('The OR is:', x|y)\n",
    "print('shift:', x>>1)\n",
    "print('shift:', x<<1)"
   ]
  }
 ],
 "metadata": {
  "kernelspec": {
   "display_name": "Python 3",
   "language": "python",
   "name": "python3"
  },
  "language_info": {
   "codemirror_mode": {
    "name": "ipython",
    "version": 3
   },
   "file_extension": ".py",
   "mimetype": "text/x-python",
   "name": "python",
   "nbconvert_exporter": "python",
   "pygments_lexer": "ipython3",
   "version": "3.10.8"
  }
 },
 "nbformat": 4,
 "nbformat_minor": 2
}
