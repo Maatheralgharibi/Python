{
 "cells": [
  {
   "cell_type": "markdown",
   "metadata": {},
   "source": [
    "### 1.\tTemperature Converter: Write a   program that takes the input temperature in Celsius and converts it to Fahrenheit. Output the temperature in Fahrenheit. If the user enters a negative value, print an error message."
   ]
  },
  {
   "cell_type": "code",
   "execution_count": 1,
   "metadata": {},
   "outputs": [
    {
     "name": "stdout",
     "output_type": "stream",
     "text": [
      "Temperature in Fahrenheit is:  89.6\n"
     ]
    }
   ],
   "source": [
    "Celsius = input(\"Enter the number of temperature in Celsius\")\n",
    "Celsius = int (Celsius)\n",
    "Fahrenheit = ((Celsius * 1.8) + 32)\n",
    "if Celsius>0:\n",
    "    print(\"Temperature in Fahrenheit is: \", Fahrenheit) \n",
    "else:\n",
    "     print(\"Error: You are enters a negative value.\") "
   ]
  },
  {
   "cell_type": "markdown",
   "metadata": {},
   "source": [
    "### 2.\tGrade Calculator: Create a   program that prompts the user to enter their marks in 3 subjects and finds the average of their marks."
   ]
  },
  {
   "cell_type": "code",
   "execution_count": 2,
   "metadata": {},
   "outputs": [
    {
     "name": "stdout",
     "output_type": "stream",
     "text": [
      "The average of your subjects grade marks is: 90.0\n"
     ]
    }
   ],
   "source": [
    "Grade1 = int (input(\"Enter the grade in the frist subjects\"))\n",
    "Grade2 = int (input(\"Enter the grade in the second subjects\"))\n",
    "Grade3 = int (input(\"Enter the grade in the third subjects\"))\n",
    "avg = (Grade1  + Grade2 + Grade3)/3\n",
    "print (\"The average of your subjects grade marks is:\" , avg)"
   ]
  },
  {
   "cell_type": "markdown",
   "metadata": {},
   "source": [
    "### 3.\tLargest Number: Write a   program that takes three numbers as input and determines which one is the largest. Output the largest number. "
   ]
  },
  {
   "cell_type": "code",
   "execution_count": 3,
   "metadata": {},
   "outputs": [
    {
     "name": "stdout",
     "output_type": "stream",
     "text": [
      "The largest number is: 23\n"
     ]
    }
   ],
   "source": [
    "num1 = int (input(\"Enter the frist number\"))\n",
    "num2 = int (input(\"Enter the second number\"))\n",
    "num3 = int (input(\"Enter the third number\"))\n",
    "if (num1>num2)>num3:\n",
    "    print(\"The largest number is:\", num1);\n",
    "elif (num2>num1)>num3:\n",
    "    print(\"The largest number is:\", num2);\n",
    "else:\n",
    "    print(\"The largest number is:\", num3);"
   ]
  },
  {
   "cell_type": "markdown",
   "metadata": {},
   "source": [
    "### 4.\tEven or Odd: Create a   program that reads an integer from the user and checks if it's even or odd. Output \"Even\" or \"Odd\" accordingly."
   ]
  },
  {
   "cell_type": "code",
   "execution_count": 9,
   "metadata": {},
   "outputs": [
    {
     "name": "stdout",
     "output_type": "stream",
     "text": [
      "45 The number is Odd\n"
     ]
    }
   ],
   "source": [
    "num1 = int (input(\"Enter your number\"))\n",
    "x = num1%2\n",
    "if x==0:\n",
    "    print(num1,\"The number is Even\")\n",
    "else:\n",
    "    print(num1,\"The number is Odd\")\n"
   ]
  },
  {
   "cell_type": "markdown",
   "metadata": {},
   "source": [
    "### 5.\tLeap Year Checker: Write a   program that prompts the user to enter a year. Determine if the year is a leap year (divisible by 4, but not divisible by 100 unless also divisible by 400). Output \"Leap Year\" or \"Not a Leap Year.\""
   ]
  },
  {
   "cell_type": "code",
   "execution_count": 11,
   "metadata": {},
   "outputs": [
    {
     "name": "stdout",
     "output_type": "stream",
     "text": [
      "2024 is a leap year.\n"
     ]
    }
   ],
   "source": [
    "# source of the code from https://www.pyforschool.com/\n",
    "# Prompt the user to input a year\n",
    "year = int(input(\"Enter a year that you want to check(----): \"))\n",
    "# Check if the year is a leap year and output the result\n",
    "if year % 4 == 0:\n",
    "    if year % 100 != 0:\n",
    "        print(year, \"is a leap year.\")\n",
    "    elif year % 400 == 0:\n",
    "        print(year, \"is a leap year.\")\n",
    "    else:\n",
    "        print(year, \"is not a leap year.\")\n",
    "else:\n",
    "    print(year, \"is not a leap year.\")"
   ]
  },
  {
   "cell_type": "markdown",
   "metadata": {},
   "source": [
    "### 6.\tPositive, Negative, or Zero: Create a   program that reads a number from the user and checks whether it's positive, negative, or zero. Output \"Positive,\" \"Negative,\" or \"Zero\" accordingly."
   ]
  },
  {
   "cell_type": "code",
   "execution_count": 6,
   "metadata": {},
   "outputs": [
    {
     "name": "stdout",
     "output_type": "stream",
     "text": [
      "You have entered  56\n",
      "The number is Positive.\n"
     ]
    }
   ],
   "source": [
    "y = int (input(\"Enter a number\"))\n",
    "print(\"You have entered \" , y) \n",
    "if y>0:\n",
    "    print(\"The number is Positive.\") \n",
    "elif y<0:\n",
    "      print(\"The number is Negative.\") \n",
    "else:\n",
    "     print(\"The number is Zero.\") "
   ]
  },
  {
   "cell_type": "markdown",
   "metadata": {},
   "source": [
    "### 7.\tCalculator: Write a   program that acts as a simple calculator. It should take two numbers and an operator (+, -, *, /) as input and perform the corresponding operation, then output the result."
   ]
  },
  {
   "cell_type": "code",
   "execution_count": 7,
   "metadata": {},
   "outputs": [
    {
     "name": "stdout",
     "output_type": "stream",
     "text": [
      "Add Operators is:  158.0\n",
      "Subtract Operators is:  -22.0\n",
      "multiply Operators is:  6120.0\n",
      "Divide Operators is:  0.7555555555555555\n"
     ]
    }
   ],
   "source": [
    "a = float (input(\"Enter the frist number\"))\n",
    "b = float (input(\"Enter the second number\"))\n",
    "sum = a + b\n",
    "sub = a - b\n",
    "multi = a * b\n",
    "divi = a / b\n",
    "print(\"Add Operators is: \" , sum) \n",
    "print(\"Subtract Operators is: \" , sub) \n",
    "print(\"multiply Operators is: \" , multi) \n",
    "print(\"Divide Operators is: \" , divi) "
   ]
  },
  {
   "cell_type": "markdown",
   "metadata": {},
   "source": [
    "### 8.\tUsername and Password Checker: Create a program that asks the user to enter a username and password. If the username is \"admin\" and the password is \"password123,\" print \"Access granted.\" Otherwise, print \"Access denied.\""
   ]
  },
  {
   "cell_type": "code",
   "execution_count": 49,
   "metadata": {},
   "outputs": [
    {
     "name": "stdout",
     "output_type": "stream",
     "text": [
      "End the programm\n"
     ]
    }
   ],
   "source": [
    "usen = input (\"Enter your Username:\")\n",
    "usen = usen.isalpha()\n",
    "pawo = input (\"Enter your Password:\")\n",
    "pawo = pawo.isalnum()\n",
    "if usen == \"admin\":\n",
    "    if pawo == \"password123,\":\n",
    "        print(\"Access granted.\")  \n",
    "    else: \n",
    "        print(\"Access denied.\")\n",
    "else:\n",
    "    print(\"End the programm\")\n"
   ]
  },
  {
   "cell_type": "markdown",
   "metadata": {},
   "source": [
    "### 9.\tAge Classifier: Create a   program that reads a person's age as input. Use if statements to classify the person as a child (0-12 years), teenager (13-19 years), adult (20-59 years), or senior (60 years and above). Output the classification."
   ]
  },
  {
   "cell_type": "code",
   "execution_count": 18,
   "metadata": {},
   "outputs": [
    {
     "name": "stdout",
     "output_type": "stream",
     "text": [
      "Rely on your age number you are a adult\n"
     ]
    }
   ],
   "source": [
    "age = int (input(\"Enter your age\"))\n",
    "if age<=12:\n",
    "    print(\"Rely on your age number you are a child\")\n",
    "elif age<=19:\n",
    "    print(\"Rely on your age number you are a teenager\")\n",
    "elif age<=59:\n",
    "    print(\"Rely on your age number you are a adult\")\n",
    "else:\n",
    "    print(\"Rely on your age number you are a senior\")"
   ]
  },
  {
   "cell_type": "markdown",
   "metadata": {},
   "source": [
    "### 10.\tTax Calculator: Write a programme that reads the price and add the tax 5%"
   ]
  },
  {
   "cell_type": "code",
   "execution_count": 19,
   "metadata": {},
   "outputs": [
    {
     "name": "stdout",
     "output_type": "stream",
     "text": [
      "The price before adding tax is: 50.0\n",
      "The price after adding tax is: 47.5\n"
     ]
    }
   ],
   "source": [
    "price = float(input(\"Enter the price here\"))\n",
    "tax = price * 0.05\n",
    "priaf = price - tax\n",
    "print(\"The price before adding tax is:\", price)\n",
    "print(\"The price after adding tax is:\", priaf)"
   ]
  },
  {
   "cell_type": "markdown",
   "metadata": {},
   "source": [
    "### 11.\tMile to KM converter: Write a programme that receives the distance in Mile and convert it to KM"
   ]
  },
  {
   "cell_type": "code",
   "execution_count": 20,
   "metadata": {},
   "outputs": [
    {
     "name": "stdout",
     "output_type": "stream",
     "text": [
      "The distance from Mile to KM is: 820.2343594333687\n"
     ]
    }
   ],
   "source": [
    "DIM = float (input(\"Enter distance in Mile\"))\n",
    "conv = (1 * DIM)/0.62137119 \n",
    "print(\"The distance from Mile to KM is:\" , conv)"
   ]
  },
  {
   "cell_type": "markdown",
   "metadata": {},
   "source": [
    "### 12.\tArea of a rectangle: write a programme that receives the height and the length of a rectangle and prints the Area and the perimeter. "
   ]
  },
  {
   "cell_type": "code",
   "execution_count": 23,
   "metadata": {},
   "outputs": [
    {
     "name": "stdout",
     "output_type": "stream",
     "text": [
      "The Area of rectangle is:  8.0 cm\n",
      "The perimeter of rectangle is:  12.0 cm\n"
     ]
    }
   ],
   "source": [
    "hig = float (input(\"Enter the height number of rectangle \"))\n",
    "len = float (input(\"Enter the length number of rectangle \"))\n",
    "Area = hig * len\n",
    "per = (hig + len) * 2\n",
    "print(\"The Area of rectangle is: \", Area , \"cm\")\n",
    "print(\"The perimeter of rectangle is: \", per , \"cm\")"
   ]
  }
 ],
 "metadata": {
  "kernelspec": {
   "display_name": "Python 3",
   "language": "python",
   "name": "python3"
  },
  "language_info": {
   "codemirror_mode": {
    "name": "ipython",
    "version": 3
   },
   "file_extension": ".py",
   "mimetype": "text/x-python",
   "name": "python",
   "nbconvert_exporter": "python",
   "pygments_lexer": "ipython3",
   "version": "3.10.8"
  }
 },
 "nbformat": 4,
 "nbformat_minor": 2
}
