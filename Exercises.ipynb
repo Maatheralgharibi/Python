{
 "cells": [
  {
   "cell_type": "markdown",
   "metadata": {},
   "source": [
    "### 1.\tTemperature Converter: Write a   program that takes the input temperature in Celsius and converts it to Fahrenheit. Output the temperature in Fahrenheit. If the user enters a negative value, print an error message."
   ]
  },
  {
   "cell_type": "code",
   "execution_count": null,
   "metadata": {},
   "outputs": [
    {
     "name": "stdout",
     "output_type": "stream",
     "text": [
      "Temperature in Fahrenheit is:  125.60000000000001\n"
     ]
    }
   ],
   "source": [
    "Celsius = input(\"Enter the number of temperature in Celsius\")\n",
    "Celsius = int (Celsius)\n",
    "Fahrenheit = ((Celsius * 1.8) + 32)\n",
    "if Celsius>0:\n",
    "    print(\"Temperature in Fahrenheit is: \", Fahrenheit) \n",
    "else:\n",
    "     print(\"Error: You are enters a negative value.\") "
   ]
  },
  {
   "cell_type": "markdown",
   "metadata": {},
   "source": [
    "### 2.\tGrade Calculator: Create a   program that prompts the user to enter their marks in 3 subjects and finds the average of their marks."
   ]
  },
  {
   "cell_type": "code",
   "execution_count": null,
   "metadata": {},
   "outputs": [
    {
     "name": "stdout",
     "output_type": "stream",
     "text": [
      "The average of your subjects grade marks is: 89.0\n"
     ]
    }
   ],
   "source": [
    "Grade1 = int (input(\"Enter the grade in the frist subjects\"))\n",
    "Grade2 = int (input(\"Enter the grade in the second subjects\"))\n",
    "Grade3 = int (input(\"Enter the grade in the third subjects\"))\n",
    "avg = (Grade1  + Grade2 + Grade3)/3\n",
    "print (\"The average of your subjects grade marks is:\" , avg)"
   ]
  },
  {
   "cell_type": "markdown",
   "metadata": {},
   "source": [
    "### 3.\tLargest Number: Write a   program that takes three numbers as input and determines which one is the largest. Output the largest number. "
   ]
  },
  {
   "cell_type": "code",
   "execution_count": null,
   "metadata": {},
   "outputs": [
    {
     "name": "stdout",
     "output_type": "stream",
     "text": [
      "The largest number is the second number\n",
      "The largest number is the third number\n",
      "The largest number is the third number\n"
     ]
    }
   ],
   "source": [
    "num1 = int (input(\"Enter the frist number\"))\n",
    "num2 = int (input(\"Enter the second number\"))\n",
    "num3 = int (input(\"Enter the third number\"))\n",
    "if num1>num2:\n",
    "    print(\"The largest number is the frist number\" , num1)\n",
    "else:\n",
    "    print(\"The largest number is the second number\" , num2)\n",
    "if num1>num3:\n",
    "    print(\"The largest number is the frist number\" , num1)\n",
    "else:\n",
    "    print(\"The largest number is the third number\" , num3)\n",
    "if num2>num3:\n",
    "    print(\"The largest number is the second number\" , num2)\n",
    "else:\n",
    "    print(\"The largest number is the third number\" , num3)"
   ]
  },
  {
   "cell_type": "markdown",
   "metadata": {},
   "source": [
    "### 4.\tEven or Odd: Create a   program that reads an integer from the user and checks if it's even or odd. Output \"Even\" or \"Odd\" accordingly."
   ]
  },
  {
   "cell_type": "code",
   "execution_count": null,
   "metadata": {},
   "outputs": [],
   "source": [
    "num1 = int (input(\"Enter the frist number\"))\n",
    "if num1%==0:\n",
    "    print(\"The number is Even\")\n",
    "else:\n",
    "    print(\"The number is Odd\")\n"
   ]
  }
 ],
 "metadata": {
  "kernelspec": {
   "display_name": "Python 3",
   "language": "python",
   "name": "python3"
  },
  "language_info": {
   "codemirror_mode": {
    "name": "ipython",
    "version": 3
   },
   "file_extension": ".py",
   "mimetype": "text/x-python",
   "name": "python",
   "nbconvert_exporter": "python",
   "pygments_lexer": "ipython3",
   "version": "3.10.8"
  }
 },
 "nbformat": 4,
 "nbformat_minor": 2
}
