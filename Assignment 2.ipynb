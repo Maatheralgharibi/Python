{
 "cells": [
  {
   "cell_type": "markdown",
   "metadata": {},
   "source": [
    "## Task 1: \n",
    "1-\tPopulation Growth\n",
    "According to World Meters website (https://www.worldometers.info/world-population/oman-population/ ) the population of Oman in November 2023 is 4,644,384  and the growth rate is 1.49%, answer the following:\n"
   ]
  },
  {
   "cell_type": "markdown",
   "metadata": {},
   "source": [
    "a.\tWhat will be the population after 10 years.\n"
   ]
  },
  {
   "cell_type": "code",
   "execution_count": 34,
   "metadata": {},
   "outputs": [
    {
     "name": "stdout",
     "output_type": "stream",
     "text": [
      "The population after 10 years is: 5384689.250706547\n"
     ]
    }
   ],
   "source": [
    "year = 2023\n",
    "gra = 0.0149\n",
    "tryear = year + 10\n",
    "pono = 4644384\n",
    "while year < tryear:\n",
    "    year += 1\n",
    "    pono *= (1 + gra) \n",
    "print(\"The population after 10 years is:\", pono)\n"
   ]
  },
  {
   "cell_type": "markdown",
   "metadata": {},
   "source": [
    "b.\tWhat will be the population in 2040"
   ]
  },
  {
   "cell_type": "code",
   "execution_count": 35,
   "metadata": {},
   "outputs": [
    {
     "name": "stdout",
     "output_type": "stream",
     "text": [
      "The population in 2040 is: 5972049.693897135\n"
     ]
    }
   ],
   "source": [
    "year = 2023\n",
    "gra = 0.0149\n",
    "tryear = 2040\n",
    "pono = 4644384\n",
    "while year < tryear:\n",
    "    year += 1\n",
    "    pono *= (1 + gra) \n",
    "print(\"The population in 2040 is:\", pono)"
   ]
  },
  {
   "cell_type": "markdown",
   "metadata": {},
   "source": [
    "c.\tIn what year the population become more than 6 millions."
   ]
  },
  {
   "cell_type": "code",
   "execution_count": 36,
   "metadata": {},
   "outputs": [
    {
     "name": "stdout",
     "output_type": "stream",
     "text": [
      "The population become more than 6 million in the year: 2041\n"
     ]
    }
   ],
   "source": [
    "pono = 4644384\n",
    "gra = 0.0149\n",
    "trpono = 6000000\n",
    "year = 2023\n",
    "while pono < trpono:\n",
    "    pono *= (1 + gra)\n",
    "    year += 1\n",
    "\n",
    "print(\"The population become more than 6 million in the year:\", year)"
   ]
  },
  {
   "cell_type": "markdown",
   "metadata": {},
   "source": [
    "## Task 2:\t\t\t\t\t\t\t\t\t\n",
    "1-\tBank account\n",
    "If a customer has OMR 1000 as a fixed deposit with interest of 3.5%, answer the following:\n"
   ]
  },
  {
   "cell_type": "markdown",
   "metadata": {},
   "source": [
    "a.\tWhat will be the balance after 2 years?"
   ]
  },
  {
   "cell_type": "code",
   "execution_count": 43,
   "metadata": {},
   "outputs": [
    {
     "name": "stdout",
     "output_type": "stream",
     "text": [
      "The balance after 2 years is: 1035.0 OMR\n"
     ]
    }
   ],
   "source": [
    "year = 1\n",
    "interest = 0.035\n",
    "yearaf = 2\n",
    "rials = 1000\n",
    "while year < yearaf:\n",
    "    year += 1\n",
    "    rials = (rials + (rials*interest))\n",
    "print(\"The balance after 2 years is:\", rials, \"OMR\")"
   ]
  },
  {
   "cell_type": "markdown",
   "metadata": {},
   "source": [
    "b.\tHow many years are needed to have a balance of OMR 2000 "
   ]
  },
  {
   "cell_type": "code",
   "execution_count": 44,
   "metadata": {},
   "outputs": [
    {
     "name": "stdout",
     "output_type": "stream",
     "text": [
      "The balance to come 2000 OMR  need: 22 Of years\n"
     ]
    }
   ],
   "source": [
    "rials = 1000\n",
    "interes = 0.035\n",
    "yearaf = 2000\n",
    "year = 1\n",
    "while rials < yearaf:\n",
    "    rials = (rials + (rials*interest))\n",
    "    year += 1\n",
    "\n",
    "print(\"The balance to come 2000 OMR  need:\", year, \"Of years\")"
   ]
  }
 ],
 "metadata": {
  "kernelspec": {
   "display_name": "Python 3",
   "language": "python",
   "name": "python3"
  },
  "language_info": {
   "codemirror_mode": {
    "name": "ipython",
    "version": 3
   },
   "file_extension": ".py",
   "mimetype": "text/x-python",
   "name": "python",
   "nbconvert_exporter": "python",
   "pygments_lexer": "ipython3",
   "version": "3.10.13"
  }
 },
 "nbformat": 4,
 "nbformat_minor": 2
}
